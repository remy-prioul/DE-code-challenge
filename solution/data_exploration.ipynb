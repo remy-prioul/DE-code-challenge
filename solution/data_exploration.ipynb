{
 "cells": [
  {
   "cell_type": "markdown",
   "metadata": {},
   "source": [
    "# Libraries & Packages\n",
    "\n",
    "Prerequites:\n",
    "```shell\n",
    "sudo pip install -r ./requirements.txt\n",
    "```"
   ]
  },
  {
   "cell_type": "code",
   "execution_count": 2,
   "metadata": {},
   "outputs": [],
   "source": [
    "import pandas"
   ]
  },
  {
   "cell_type": "markdown",
   "metadata": {},
   "source": [
    "# File Loading & initial overview"
   ]
  },
  {
   "cell_type": "code",
   "execution_count": 20,
   "metadata": {},
   "outputs": [],
   "source": [
    "def df_initial_inspection(df: pandas.DataFrame) -> str:\n",
    "    output = \"\"\n",
    "\n",
    "    first_rows = df.head(5)\n",
    "    column_cardinality = df.nunique()\n",
    "    total_shape = df.shape\n",
    "    duplicates = df[df.duplicated(keep=False)]\n",
    "    unique_shape = df.drop_duplicates().shape\n",
    "\n",
    "    return f\"\"\"First 5 rows:\n",
    "{first_rows}\n",
    "\n",
    "Column Cardinality:\n",
    "{column_cardinality}\n",
    "\n",
    "Size (with and without duplicates):\n",
    "{total_shape}\n",
    "{unique_shape}\n",
    "\n",
    "Duplicate records:\n",
    "{duplicates}\"\"\""
   ]
  },
  {
   "cell_type": "markdown",
   "metadata": {},
   "source": [
    "## Locations"
   ]
  },
  {
   "cell_type": "code",
   "execution_count": 21,
   "metadata": {},
   "outputs": [
    {
     "name": "stdout",
     "output_type": "stream",
     "text": [
      "First 5 rows:\n",
      "   zip_code        location\n",
      "0     10506  King's Landing\n",
      "1     80976           Dorne\n",
      "2     78956         Braavos\n",
      "3     67305       Harrenhal\n",
      "4     25089      Winterfell\n",
      "\n",
      "Column Cardinality:\n",
      "zip_code    8\n",
      "location    8\n",
      "dtype: int64\n",
      "\n",
      "Size (with and without duplicates):\n",
      "(8, 2)\n",
      "(8, 2)\n",
      "\n",
      "Duplicate records:\n",
      "Empty DataFrame\n",
      "Columns: [zip_code, location]\n",
      "Index: []\n"
     ]
    }
   ],
   "source": [
    "locations = pandas.read_csv(\"../data/locations.csv\")\n",
    "\n",
    "print(df_initial_inspection(locations))"
   ]
  },
  {
   "cell_type": "markdown",
   "metadata": {},
   "source": [
    "**Notes:**\n",
    "* No duplicates, 1 to 1 match between a zip code (integer) and an area (string)\n",
    "* Will most likely be used as input for a geographical dimension table in our data model"
   ]
  },
  {
   "cell_type": "markdown",
   "metadata": {},
   "source": [
    "## Companies"
   ]
  },
  {
   "cell_type": "code",
   "execution_count": 27,
   "metadata": {},
   "outputs": [
    {
     "name": "stdout",
     "output_type": "stream",
     "text": [
      "First 5 rows:\n",
      "   Company ID               Company Name Establishment Date  \\\n",
      "0           0                 Delta Inc.         2019-09-13   \n",
      "1           1                 Best Corp.         2022-02-28   \n",
      "2           2                 Delta Inc.         2019-09-07   \n",
      "3           3            Fast Track Inc.         2021-03-10   \n",
      "4           4  Bright Future Enterprises         2019-01-02   \n",
      "\n",
      "   Number of Employees  \n",
      "0                  460  \n",
      "1                  302  \n",
      "2                  353  \n",
      "3                   92  \n",
      "4                  246  \n",
      "\n",
      "Column Cardinality:\n",
      "Company ID             10\n",
      "Company Name            6\n",
      "Establishment Date     10\n",
      "Number of Employees    10\n",
      "dtype: int64\n",
      "\n",
      "Size (with and without duplicates):\n",
      "(10, 4)\n",
      "(10, 4)\n",
      "\n",
      "Duplicate records:\n",
      "Empty DataFrame\n",
      "Columns: [Company ID, Company Name, Establishment Date, Number of Employees]\n",
      "Index: []\n"
     ]
    }
   ],
   "source": [
    "companies = pandas.read_json(\"../data/companies.json\")\n",
    "\n",
    "companies[\"Establishment Date\"] = pandas.to_datetime(companies[\"Establishment Date\"], unit=\"ms\")\n",
    "\n",
    "print(df_initial_inspection(companies))"
   ]
  },
  {
   "cell_type": "code",
   "execution_count": 24,
   "metadata": {},
   "outputs": [
    {
     "data": {
      "text/html": [
       "<div>\n",
       "<style scoped>\n",
       "    .dataframe tbody tr th:only-of-type {\n",
       "        vertical-align: middle;\n",
       "    }\n",
       "\n",
       "    .dataframe tbody tr th {\n",
       "        vertical-align: top;\n",
       "    }\n",
       "\n",
       "    .dataframe thead th {\n",
       "        text-align: right;\n",
       "    }\n",
       "</style>\n",
       "<table border=\"1\" class=\"dataframe\">\n",
       "  <thead>\n",
       "    <tr style=\"text-align: right;\">\n",
       "      <th></th>\n",
       "      <th>Company ID</th>\n",
       "      <th>Company Name</th>\n",
       "      <th>Establishment Date</th>\n",
       "      <th>Number of Employees</th>\n",
       "    </tr>\n",
       "  </thead>\n",
       "  <tbody>\n",
       "    <tr>\n",
       "      <th>6</th>\n",
       "      <td>6</td>\n",
       "      <td>Delta Inc.</td>\n",
       "      <td>2018-07-09</td>\n",
       "      <td>434</td>\n",
       "    </tr>\n",
       "    <tr>\n",
       "      <th>2</th>\n",
       "      <td>2</td>\n",
       "      <td>Delta Inc.</td>\n",
       "      <td>2019-09-07</td>\n",
       "      <td>353</td>\n",
       "    </tr>\n",
       "    <tr>\n",
       "      <th>0</th>\n",
       "      <td>0</td>\n",
       "      <td>Delta Inc.</td>\n",
       "      <td>2019-09-13</td>\n",
       "      <td>460</td>\n",
       "    </tr>\n",
       "    <tr>\n",
       "      <th>9</th>\n",
       "      <td>9</td>\n",
       "      <td>Delta Inc.</td>\n",
       "      <td>2022-10-30</td>\n",
       "      <td>440</td>\n",
       "    </tr>\n",
       "  </tbody>\n",
       "</table>\n",
       "</div>"
      ],
      "text/plain": [
       "   Company ID Company Name Establishment Date  Number of Employees\n",
       "6           6   Delta Inc.         2018-07-09                  434\n",
       "2           2   Delta Inc.         2019-09-07                  353\n",
       "0           0   Delta Inc.         2019-09-13                  460\n",
       "9           9   Delta Inc.         2022-10-30                  440"
      ]
     },
     "execution_count": 24,
     "metadata": {},
     "output_type": "execute_result"
    }
   ],
   "source": [
    "companies[companies[\"Company Name\"] == \"Delta Inc.\"].sort_values(by=[\"Establishment Date\"])"
   ]
  },
  {
   "cell_type": "markdown",
   "metadata": {},
   "source": [
    "**Notes:**\n",
    "* We have here some properties of an `Company` entity: a unique ID, a name (which contains duplicates) and establishment date.\n",
    "  * `Delta Inc.` is a clear outlier in this data set as there are 4 records of it. \n",
    "* We also have one summary statistics about each company: its number of employees.\n",
    "\n",
    "**Open questions:**\n",
    "1. The fact that Delta Inc. shows up 4 times raises some questions. Potential explanations could be:\n",
    "* This is not a one-row-per-entity table, but rather tracking changes over time? \n",
    "* Delta Inc. has multiple branches in different territories that opened at different times and operate independently, hence individual properties for each. In that case the data misses additional information to make the distinction for analysis.\n",
    "* Delta Inc. shut down and re-opened multiple times, which seems unlikely. A `Closure date` timestamp or even an `Is operating` boolean would clarify this aspect.\n",
    "\n",
    "The last file might help clarify the above questions. Usually, this is where business knowledge from stakeholders and/or documentation come in handy to help clarify such questions."
   ]
  },
  {
   "cell_type": "markdown",
   "metadata": {},
   "source": [
    "## Jobs"
   ]
  },
  {
   "cell_type": "code",
   "execution_count": 26,
   "metadata": {},
   "outputs": [
    {
     "name": "stdout",
     "output_type": "stream",
     "text": [
      "First 5 rows:\n",
      "            posted_at  id      state    zip   price\n",
      "0 2022-04-13 11:43:00   1    expired  10506  119.34\n",
      "1 2021-01-20 04:54:00   2  cancelled  10506  197.89\n",
      "2 2021-07-21 15:29:00   3    expired  35786  335.85\n",
      "3 2021-06-13 20:11:00   4    expired  78956  150.00\n",
      "4 2022-06-23 06:52:00   5    expired  78956  158.09\n",
      "\n",
      "Column Cardinality:\n",
      "posted_at    100\n",
      "id           100\n",
      "state          5\n",
      "zip            5\n",
      "price         98\n",
      "dtype: int64\n",
      "\n",
      "Size (with and without duplicates):\n",
      "(102, 5)\n",
      "(100, 5)\n",
      "\n",
      "Duplicate records:\n",
      "              posted_at  id      state    zip   price\n",
      "2   2021-07-21 15:29:00   3    expired  35786  335.85\n",
      "96  2022-12-29 16:05:00  97  cancelled  78956   11.83\n",
      "100 2022-12-29 16:05:00  97  cancelled  78956   11.83\n",
      "101 2021-07-21 15:29:00   3    expired  35786  335.85\n"
     ]
    },
    {
     "data": {
      "text/plain": [
       "array(['expired', 'cancelled', 'posted', 'osted', 'canceled'],\n",
       "      dtype=object)"
      ]
     },
     "execution_count": 26,
     "metadata": {},
     "output_type": "execute_result"
    }
   ],
   "source": [
    "jobs = pandas.read_json(\"../data/jobs.json\")\n",
    "\n",
    "print(df_initial_inspection(jobs))\n",
    "jobs[\"state\"].unique()"
   ]
  },
  {
   "cell_type": "markdown",
   "metadata": {},
   "source": [
    "**Notes:**\n",
    "* This file seems to keep records of the `Job` (job postings) entity with some of its properties:\n",
    "  * Id\n",
    "  * Price\n",
    "  * Zip (will allow connection to `locations`)\n",
    "  * Posted at date and time\n",
    "  * Status (expired, open or cancelled, with a few additional values due to typos and american vs british english spellings)\n",
    "* Duplicates were identified in the data with ID 3 and 97 (respectively rows {2, 101} and {96, 101})\n",
    "* A few records have no prices attached to them. Not necessarily a data quality issue: it could be a non-paid job for example?\n",
    "* There appears to be no clear obvious connection between this data and `companies`.\n",
    "\n",
    "**Open questions:**\n",
    "* Based on the rest of the questions in the exercise, it appears necessary to have a connection between `jobs` and `companies` but there doesn't to be an immediate connection between the 2.\n",
    "* I will make the following assumption in order to be able to move forward with the rest of the work: only one company can have jobs published at a single time. That way based on the history in `companies`, I'll be able to derive the time ranges in which companies had job postings. Combining this with the `posted_at` from `jobs`, I'll be able to map jobs to companies."
   ]
  }
 ],
 "metadata": {
  "kernelspec": {
   "display_name": "Python 3.10.6 64-bit",
   "language": "python",
   "name": "python3"
  },
  "language_info": {
   "codemirror_mode": {
    "name": "ipython",
    "version": 3
   },
   "file_extension": ".py",
   "mimetype": "text/x-python",
   "name": "python",
   "nbconvert_exporter": "python",
   "pygments_lexer": "ipython3",
   "version": "3.10.6"
  },
  "orig_nbformat": 4,
  "vscode": {
   "interpreter": {
    "hash": "916dbcbb3f70747c44a77c7bcd40155683ae19c65e1c03b4aa3499c5328201f1"
   }
  }
 },
 "nbformat": 4,
 "nbformat_minor": 2
}
